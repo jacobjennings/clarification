{
 "cells": [
  {
   "cell_type": "code",
   "execution_count": null,
   "id": "initial_id",
   "metadata": {
    "collapsed": true
   },
   "outputs": [],
   "source": [
    ""
   ]
  },
  {
   "metadata": {},
   "cell_type": "markdown",
   "source": [
    "## Are there existing trainers that I can use as a reference to improve audio_trainer.py?\n",
    "\n",
    "## Add spectrograms to tensorboard outputs\n",
    "\n",
    "\n"
   ],
   "id": "d6306e8ea1d30c31"
  },
  {
   "metadata": {},
   "cell_type": "markdown",
   "source": "",
   "id": "34927ecc2ccbbb5a"
  },
  {
   "metadata": {},
   "cell_type": "markdown",
   "source": "",
   "id": "d2c741c5ea68410f"
  }
 ],
 "metadata": {
  "kernelspec": {
   "display_name": "Python 3",
   "language": "python",
   "name": "python3"
  },
  "language_info": {
   "codemirror_mode": {
    "name": "ipython",
    "version": 2
   },
   "file_extension": ".py",
   "mimetype": "text/x-python",
   "name": "python",
   "nbconvert_exporter": "python",
   "pygments_lexer": "ipython2",
   "version": "2.7.6"
  }
 },
 "nbformat": 4,
 "nbformat_minor": 5
}
