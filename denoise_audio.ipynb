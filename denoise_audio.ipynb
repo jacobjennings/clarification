{
 "cells": [
  {
   "metadata": {},
   "cell_type": "markdown",
   "source": "### Imports",
   "id": "b317b75efd19d842"
  },
  {
   "metadata": {
    "ExecuteTime": {
     "end_time": "2024-04-26T23:19:16.784872Z",
     "start_time": "2024-04-26T23:19:16.707185Z"
    }
   },
   "cell_type": "code",
   "source": [
    "import argparse\n",
    "import copy\n",
    "import os\n",
    "import logging\n",
    "import secrets\n",
    "import numpy\n",
    "import copy\n",
    "\n",
    "from ipywidgets import IntProgress\n",
    "from IPython.display import display\n",
    "import time\n",
    "\n",
    "# PyTorch model and training necessities\n",
    "import torch\n",
    "import torch.nn as nn\n",
    "import torch.nn.functional as F\n",
    "import torch.optim as optim\n",
    "\n",
    "# Audio\n",
    "import torchaudio\n",
    "\n",
    "# Image datasets and image manipulation\n",
    "import torchvision\n",
    "import torchvision.transforms as transforms\n",
    "\n",
    "# Image display\n",
    "import matplotlib.pyplot as plt\n",
    "import numpy as np\n",
    "\n",
    "# PyTorch TensorBoard support\n",
    "from torch.utils.tensorboard import SummaryWriter"
   ],
   "id": "initial_id",
   "outputs": [],
   "execution_count": 29
  },
  {
   "metadata": {},
   "cell_type": "markdown",
   "source": "### Configuration",
   "id": "96b02c0dbc4ad760"
  },
  {
   "metadata": {
    "ExecuteTime": {
     "end_time": "2024-04-27T00:48:36.638185Z",
     "start_time": "2024-04-27T00:48:36.634940Z"
    }
   },
   "cell_type": "code",
   "source": "base_dataset_cache_directory = 'D:\\commonvoice\\en'",
   "id": "a680190877767773",
   "outputs": [],
   "execution_count": 38
  },
  {
   "metadata": {},
   "cell_type": "markdown",
   "source": "### Load base dataset",
   "id": "72dcbe117b485c88"
  },
  {
   "metadata": {
    "ExecuteTime": {
     "end_time": "2024-04-27T01:23:04.857399Z",
     "start_time": "2024-04-27T01:23:04.832820Z"
    }
   },
   "cell_type": "code",
   "source": "training_speech_dataset = torchaudio.datasets.COMMONVOICE(root=base_dataset_cache_directory)",
   "id": "80c92d166f0bc10d",
   "outputs": [
    {
     "ename": "UnicodeDecodeError",
     "evalue": "'charmap' codec can't decode byte 0x9d in position 3155: character maps to <undefined>",
     "output_type": "error",
     "traceback": [
      "\u001B[1;31m---------------------------------------------------------------------------\u001B[0m",
      "\u001B[1;31mUnicodeDecodeError\u001B[0m                        Traceback (most recent call last)",
      "Cell \u001B[1;32mIn[49], line 1\u001B[0m\n\u001B[1;32m----> 1\u001B[0m training_speech_dataset \u001B[38;5;241m=\u001B[39m \u001B[43mtorchaudio\u001B[49m\u001B[38;5;241;43m.\u001B[39;49m\u001B[43mdatasets\u001B[49m\u001B[38;5;241;43m.\u001B[39;49m\u001B[43mCOMMONVOICE\u001B[49m\u001B[43m(\u001B[49m\u001B[43mroot\u001B[49m\u001B[38;5;241;43m=\u001B[39;49m\u001B[43mbase_dataset_cache_directory\u001B[49m\u001B[43m)\u001B[49m\n",
      "File \u001B[1;32m~\\Documents\\GitHub\\clarification\\venv-pc\\Lib\\site-packages\\torchaudio\\datasets\\commonvoice.py:55\u001B[0m, in \u001B[0;36mCOMMONVOICE.__init__\u001B[1;34m(self, root, tsv)\u001B[0m\n\u001B[0;32m     53\u001B[0m walker \u001B[38;5;241m=\u001B[39m csv\u001B[38;5;241m.\u001B[39mreader(tsv_, delimiter\u001B[38;5;241m=\u001B[39m\u001B[38;5;124m\"\u001B[39m\u001B[38;5;130;01m\\t\u001B[39;00m\u001B[38;5;124m\"\u001B[39m)\n\u001B[0;32m     54\u001B[0m \u001B[38;5;28mself\u001B[39m\u001B[38;5;241m.\u001B[39m_header \u001B[38;5;241m=\u001B[39m \u001B[38;5;28mnext\u001B[39m(walker)\n\u001B[1;32m---> 55\u001B[0m \u001B[38;5;28mself\u001B[39m\u001B[38;5;241m.\u001B[39m_walker \u001B[38;5;241m=\u001B[39m \u001B[38;5;28mlist\u001B[39m(walker)\n",
      "File \u001B[1;32m~\\AppData\\Local\\Programs\\Python\\Python311\\Lib\\encodings\\cp1252.py:23\u001B[0m, in \u001B[0;36mIncrementalDecoder.decode\u001B[1;34m(self, input, final)\u001B[0m\n\u001B[0;32m     22\u001B[0m \u001B[38;5;28;01mdef\u001B[39;00m \u001B[38;5;21mdecode\u001B[39m(\u001B[38;5;28mself\u001B[39m, \u001B[38;5;28minput\u001B[39m, final\u001B[38;5;241m=\u001B[39m\u001B[38;5;28;01mFalse\u001B[39;00m):\n\u001B[1;32m---> 23\u001B[0m     \u001B[38;5;28;01mreturn\u001B[39;00m codecs\u001B[38;5;241m.\u001B[39mcharmap_decode(\u001B[38;5;28minput\u001B[39m,\u001B[38;5;28mself\u001B[39m\u001B[38;5;241m.\u001B[39merrors,decoding_table)[\u001B[38;5;241m0\u001B[39m]\n",
      "\u001B[1;31mUnicodeDecodeError\u001B[0m: 'charmap' codec can't decode byte 0x9d in position 3155: character maps to <undefined>"
     ]
    }
   ],
   "execution_count": 49
  },
  {
   "metadata": {},
   "cell_type": "markdown",
   "source": "### Create noisy dataset",
   "id": "4fabf2f1564f979e"
  },
  {
   "metadata": {
    "ExecuteTime": {
     "end_time": "2024-04-26T23:12:48.818087Z",
     "start_time": "2024-04-26T23:12:48.807715Z"
    }
   },
   "cell_type": "code",
   "source": [
    "# torch.set_default_dtype()\n",
    "\n",
    "training_speech_dataset_noisy = copy.deepcopy(training_speech_dataset_hf)\n",
    "# training_speech_dataset_noisy = training_speech_dataset_noisy \n",
    "\n",
    "print(\"training_speech_dataset: {}\".format(training_speech_dataset))\n",
    "\n",
    "print(\"first element not noisy: {}\".format(training_speech_dataset[0][\"audio\"]))\n",
    "# print(\"first element noisy: {}\".format(training_speech_dataset_noisy[0][\"audio\"]))\n",
    "\n"
   ],
   "id": "862c1774d190c8b4",
   "outputs": [
    {
     "name": "stdout",
     "output_type": "stream",
     "text": [
      "training_speech_dataset: Dataset({\n",
      "    features: ['client_id', 'path', 'audio', 'sentence', 'up_votes', 'down_votes', 'age', 'gender', 'accent', 'locale', 'segment', 'variant'],\n",
      "    num_rows: 1000\n",
      "})\n",
      "first element not noisy: {'path': 'D:\\\\hf-common-voice-corpus-17-cache\\\\downloads\\\\extracted\\\\489bebd81922d8bb0df33ab9db3554d3da49763c7e72b4ac753286adb47146c5\\\\en_train_0/common_voice_en_100229.mp3', 'array': tensor([ 0.0000e+00, -9.2136e-14, -1.4275e-14,  ..., -6.5469e-07,\n",
      "        -1.4237e-06, -4.9616e-07]), 'sampling_rate': tensor(48000)}\n"
     ]
    }
   ],
   "execution_count": 28
  },
  {
   "metadata": {},
   "cell_type": "markdown",
   "source": "",
   "id": "a5c184ce3cfd181e"
  }
 ],
 "metadata": {
  "kernelspec": {
   "display_name": "Python 3",
   "language": "python",
   "name": "python3"
  },
  "language_info": {
   "codemirror_mode": {
    "name": "ipython",
    "version": 2
   },
   "file_extension": ".py",
   "mimetype": "text/x-python",
   "name": "python",
   "nbconvert_exporter": "python",
   "pygments_lexer": "ipython2",
   "version": "2.7.6"
  }
 },
 "nbformat": 4,
 "nbformat_minor": 5
}
